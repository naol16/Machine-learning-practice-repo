{
 "cells": [
  {
   "cell_type": "code",
   "execution_count": 37,
   "id": "dc9f8735-d509-44bf-89d5-cdedd3c904b9",
   "metadata": {},
   "outputs": [
    {
     "name": "stdout",
     "output_type": "stream",
     "text": [
      "Defaulting to user installation because normal site-packages is not writeable\n",
      "Requirement already satisfied: pandas in c:\\users\\hp\\appdata\\roaming\\python\\python313\\site-packages (2.2.3)\n",
      "Requirement already satisfied: numpy>=1.26.0 in c:\\users\\hp\\appdata\\roaming\\python\\python313\\site-packages (from pandas) (2.1.3)\n",
      "Requirement already satisfied: python-dateutil>=2.8.2 in c:\\users\\hp\\appdata\\roaming\\python\\python313\\site-packages (from pandas) (2.9.0.post0)\n",
      "Requirement already satisfied: pytz>=2020.1 in c:\\users\\hp\\appdata\\roaming\\python\\python313\\site-packages (from pandas) (2024.2)\n",
      "Requirement already satisfied: tzdata>=2022.7 in c:\\users\\hp\\appdata\\roaming\\python\\python313\\site-packages (from pandas) (2024.2)\n",
      "Requirement already satisfied: six>=1.5 in c:\\users\\hp\\appdata\\roaming\\python\\python313\\site-packages (from python-dateutil>=2.8.2->pandas) (1.16.0)\n",
      "Defaulting to user installation because normal site-packages is not writeable\n",
      "Requirement already satisfied: matplotlib in c:\\users\\hp\\appdata\\roaming\\python\\python313\\site-packages (3.9.2)\n",
      "Requirement already satisfied: contourpy>=1.0.1 in c:\\users\\hp\\appdata\\roaming\\python\\python313\\site-packages (from matplotlib) (1.3.0)\n",
      "Requirement already satisfied: cycler>=0.10 in c:\\users\\hp\\appdata\\roaming\\python\\python313\\site-packages (from matplotlib) (0.12.1)\n",
      "Requirement already satisfied: fonttools>=4.22.0 in c:\\users\\hp\\appdata\\roaming\\python\\python313\\site-packages (from matplotlib) (4.54.1)\n",
      "Requirement already satisfied: kiwisolver>=1.3.1 in c:\\users\\hp\\appdata\\roaming\\python\\python313\\site-packages (from matplotlib) (1.4.7)\n",
      "Requirement already satisfied: numpy>=1.23 in c:\\users\\hp\\appdata\\roaming\\python\\python313\\site-packages (from matplotlib) (2.1.3)\n",
      "Requirement already satisfied: packaging>=20.0 in c:\\users\\hp\\appdata\\roaming\\python\\python313\\site-packages (from matplotlib) (24.1)\n",
      "Requirement already satisfied: pillow>=8 in c:\\users\\hp\\appdata\\roaming\\python\\python313\\site-packages (from matplotlib) (11.0.0)\n",
      "Requirement already satisfied: pyparsing>=2.3.1 in c:\\users\\hp\\appdata\\roaming\\python\\python313\\site-packages (from matplotlib) (3.2.0)\n",
      "Requirement already satisfied: python-dateutil>=2.7 in c:\\users\\hp\\appdata\\roaming\\python\\python313\\site-packages (from matplotlib) (2.9.0.post0)\n",
      "Requirement already satisfied: six>=1.5 in c:\\users\\hp\\appdata\\roaming\\python\\python313\\site-packages (from python-dateutil>=2.7->matplotlib) (1.16.0)\n",
      "Defaulting to user installation because normal site-packages is not writeable\n",
      "Requirement already satisfied: numpy in c:\\users\\hp\\appdata\\roaming\\python\\python313\\site-packages (2.1.3)\n",
      "Defaulting to user installation because normal site-packages is not writeable\n",
      "Requirement already satisfied: scikit-learn in c:\\users\\hp\\appdata\\roaming\\python\\python313\\site-packages (1.5.2)\n",
      "Requirement already satisfied: numpy>=1.19.5 in c:\\users\\hp\\appdata\\roaming\\python\\python313\\site-packages (from scikit-learn) (2.1.3)\n",
      "Requirement already satisfied: scipy>=1.6.0 in c:\\users\\hp\\appdata\\roaming\\python\\python313\\site-packages (from scikit-learn) (1.14.1)\n",
      "Requirement already satisfied: joblib>=1.2.0 in c:\\users\\hp\\appdata\\roaming\\python\\python313\\site-packages (from scikit-learn) (1.4.2)\n",
      "Requirement already satisfied: threadpoolctl>=3.1.0 in c:\\users\\hp\\appdata\\roaming\\python\\python313\\site-packages (from scikit-learn) (3.5.0)\n"
     ]
    }
   ],
   "source": [
    "#!pip install scikit-learn==0.23.1\n",
    "!pip install pandas\n",
    "!pip install matplotlib\n",
    "!pip install numpy\n",
    "!pip install scikit-learn"
   ]
  },
  {
   "cell_type": "code",
   "execution_count": 38,
   "id": "ff1c3d93-76f3-4c6a-aeb3-3b701943ec53",
   "metadata": {},
   "outputs": [],
   "source": [
    "import  pandas as pd\n",
    "import pylab as pl\n",
    "import  numpy as np \n",
    "%matplotlib inline"
   ]
  },
  {
   "cell_type": "code",
   "execution_count": 39,
   "id": "7f4c64ec-156e-4ec9-bb28-943231c06714",
   "metadata": {},
   "outputs": [],
   "source": [
    "import requests\n",
    "\n",
    "url = \"https://cf-courses-data.s3.us.cloud-object-storage.appdomain.cloud/IBMDeveloperSkillsNetwork-ML0101EN-SkillsNetwork/labs/Module%203/data/ChurnData.csv\"\n",
    "response = requests.get(url)\n",
    "\n",
    "# Save the content to a CSV file\n",
    "with open(\"ChurnData.csv\", \"wb\") as file:\n",
    "    file.write(response.content)"
   ]
  },
  {
   "cell_type": "code",
   "execution_count": 40,
   "id": "d6a79168-72e8-445a-b995-53211fc0f4e1",
   "metadata": {},
   "outputs": [
    {
     "name": "stdout",
     "output_type": "stream",
     "text": [
      "     tenure   age  address  income   ed  employ  equip  callcard  wireless  \\\n",
      "0      11.0  33.0      7.0   136.0  5.0     5.0    0.0       1.0       1.0   \n",
      "1      33.0  33.0     12.0    33.0  2.0     0.0    0.0       0.0       0.0   \n",
      "2      23.0  30.0      9.0    30.0  1.0     2.0    0.0       0.0       0.0   \n",
      "3      38.0  35.0      5.0    76.0  2.0    10.0    1.0       1.0       1.0   \n",
      "4       7.0  35.0     14.0    80.0  2.0    15.0    0.0       1.0       0.0   \n",
      "..      ...   ...      ...     ...  ...     ...    ...       ...       ...   \n",
      "195    55.0  44.0     24.0    83.0  1.0    23.0    0.0       1.0       0.0   \n",
      "196    34.0  23.0      3.0    24.0  1.0     7.0    0.0       1.0       0.0   \n",
      "197     6.0  32.0     10.0    47.0  1.0    10.0    0.0       1.0       0.0   \n",
      "198    24.0  30.0      0.0    25.0  4.0     5.0    0.0       1.0       1.0   \n",
      "199    61.0  50.0     16.0   190.0  2.0    22.0    1.0       1.0       1.0   \n",
      "\n",
      "     longmon  ...  pager  internet  callwait  confer  ebill  loglong  logtoll  \\\n",
      "0       4.40  ...    1.0       0.0       1.0     1.0    0.0    1.482    3.033   \n",
      "1       9.45  ...    0.0       0.0       0.0     0.0    0.0    2.246    3.240   \n",
      "2       6.30  ...    0.0       0.0       0.0     1.0    0.0    1.841    3.240   \n",
      "3       6.05  ...    1.0       1.0       1.0     1.0    1.0    1.800    3.807   \n",
      "4       7.10  ...    0.0       0.0       1.0     1.0    0.0    1.960    3.091   \n",
      "..       ...  ...    ...       ...       ...     ...    ...      ...      ...   \n",
      "195    17.35  ...    0.0       0.0       0.0     1.0    0.0    2.854    3.199   \n",
      "196     6.00  ...    0.0       0.0       1.0     1.0    0.0    1.792    3.332   \n",
      "197     3.85  ...    0.0       0.0       1.0     1.0    0.0    1.348    3.168   \n",
      "198     8.70  ...    1.0       1.0       1.0     1.0    1.0    2.163    3.866   \n",
      "199    16.85  ...    0.0       1.0       0.0     0.0    1.0    2.824    3.240   \n",
      "\n",
      "     lninc  custcat  churn  \n",
      "0    4.913      4.0    1.0  \n",
      "1    3.497      1.0    1.0  \n",
      "2    3.401      3.0    0.0  \n",
      "3    4.331      4.0    0.0  \n",
      "4    4.382      3.0    0.0  \n",
      "..     ...      ...    ...  \n",
      "195  4.419      3.0    0.0  \n",
      "196  3.178      3.0    0.0  \n",
      "197  3.850      3.0    0.0  \n",
      "198  3.219      4.0    1.0  \n",
      "199  5.247      2.0    0.0  \n",
      "\n",
      "[200 rows x 28 columns]\n"
     ]
    }
   ],
   "source": [
    "churn_one =pd.read_csv(\"ChurnData.csv\")\n",
    "print(churn_one)"
   ]
  },
  {
   "cell_type": "code",
   "execution_count": 41,
   "id": "8f45d99b-2fc7-42ec-9a48-f2926728cef1",
   "metadata": {},
   "outputs": [
    {
     "data": {
      "text/plain": [
       "array([[ 11.,  33.,   7., 136.,   5.,   5.,   0.],\n",
       "       [ 33.,  33.,  12.,  33.,   2.,   0.,   0.],\n",
       "       [ 23.,  30.,   9.,  30.,   1.,   2.,   0.],\n",
       "       [ 38.,  35.,   5.,  76.,   2.,  10.,   1.],\n",
       "       [  7.,  35.,  14.,  80.,   2.,  15.,   0.]])"
      ]
     },
     "execution_count": 41,
     "metadata": {},
     "output_type": "execute_result"
    }
   ],
   "source": [
    "X = np.asarray(churn_one[['tenure', 'age', 'address', 'income', 'ed', 'employ', 'equip']])\n",
    "X[0:5]"
   ]
  },
  {
   "cell_type": "code",
   "execution_count": 42,
   "id": "c181ff25-f2ac-41f1-8ab0-2c880dcdad88",
   "metadata": {},
   "outputs": [
    {
     "data": {
      "text/plain": [
       "array([[1.],\n",
       "       [1.],\n",
       "       [0.],\n",
       "       [0.],\n",
       "       [0.]])"
      ]
     },
     "execution_count": 42,
     "metadata": {},
     "output_type": "execute_result"
    }
   ],
   "source": [
    "Y= np.asarray(churn_one[['churn']])\n",
    "Y[0:5]"
   ]
  },
  {
   "cell_type": "code",
   "execution_count": 43,
   "id": "d8eeb41f-7942-415d-a873-6734e3f81a4a",
   "metadata": {},
   "outputs": [
    {
     "data": {
      "text/plain": [
       "array([[-1.13518441, -0.62595491, -0.4588971 ,  0.4751423 ,  1.6961288 ,\n",
       "        -0.58477841, -0.85972695],\n",
       "       [-0.11604313, -0.62595491,  0.03454064, -0.32886061, -0.6433592 ,\n",
       "        -1.14437497, -0.85972695],\n",
       "       [-0.57928917, -0.85594447, -0.261522  , -0.35227817, -1.42318853,\n",
       "        -0.92053635, -0.85972695],\n",
       "       [ 0.11557989, -0.47262854, -0.65627219,  0.00679109, -0.6433592 ,\n",
       "        -0.02518185,  1.16316   ],\n",
       "       [-1.32048283, -0.47262854,  0.23191574,  0.03801451, -0.6433592 ,\n",
       "         0.53441472, -0.85972695]])"
      ]
     },
     "execution_count": 43,
     "metadata": {},
     "output_type": "execute_result"
    }
   ],
   "source": [
    "from sklearn import preprocessing\n",
    "X = preprocessing.StandardScaler().fit(X).transform(X)\n",
    "X[0:5]"
   ]
  }
 ],
 "metadata": {
  "kernelspec": {
   "display_name": "Python 3 (ipykernel)",
   "language": "python",
   "name": "python3"
  },
  "language_info": {
   "codemirror_mode": {
    "name": "ipython",
    "version": 3
   },
   "file_extension": ".py",
   "mimetype": "text/x-python",
   "name": "python",
   "nbconvert_exporter": "python",
   "pygments_lexer": "ipython3",
   "version": "3.13.0"
  }
 },
 "nbformat": 4,
 "nbformat_minor": 5
}
